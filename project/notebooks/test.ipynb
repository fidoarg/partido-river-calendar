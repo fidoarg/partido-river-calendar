{
 "cells": [
  {
   "cell_type": "code",
   "execution_count": 1,
   "metadata": {},
   "outputs": [],
   "source": [
    "import sys\n",
    "import os"
   ]
  },
  {
   "cell_type": "code",
   "execution_count": 2,
   "metadata": {},
   "outputs": [],
   "source": [
    "sys.path.append(os.path.pardir)"
   ]
  },
  {
   "attachments": {},
   "cell_type": "markdown",
   "metadata": {},
   "source": [
    "---"
   ]
  },
  {
   "cell_type": "code",
   "execution_count": 23,
   "metadata": {},
   "outputs": [],
   "source": [
    "from scrapping.espn.utils import get_games_scheduled_in_date, COMPETITIONS\n",
    "from datetime import date\n",
    "from app.classes import Game"
   ]
  },
  {
   "cell_type": "code",
   "execution_count": 24,
   "metadata": {},
   "outputs": [
    {
     "data": {
      "text/plain": [
       "{'primera-division-de-argentina': {'name': 'Liga Profesional de Argentina',\n",
       "  'id': 'arg.1'},\n",
       " 'nacional-b': {'name': 'Primera Nacional de Argentina', 'id': 'arg.2'},\n",
       " 'primera-b-ar': {'name': 'Primera B de Argentina', 'id': 'arg.3'},\n",
       " 'primera-c-ar': {'name': 'Primera C de Argentina', 'id': 'arg.4'},\n",
       " 'primera-d-ar': {'name': 'Primera D de Argentina', 'id': 'arg.5'}}"
      ]
     },
     "execution_count": 24,
     "metadata": {},
     "output_type": "execute_result"
    }
   ],
   "source": [
    "COMPETITIONS"
   ]
  },
  {
   "cell_type": "code",
   "execution_count": 25,
   "metadata": {},
   "outputs": [],
   "source": [
    "date_to_check= date(2023, 5, 29)"
   ]
  },
  {
   "cell_type": "code",
   "execution_count": 26,
   "metadata": {},
   "outputs": [],
   "source": [
    "games = get_games_scheduled_in_date(date_to_ckeck= date_to_check, competition_key= \"primera-division-de-argentina\")"
   ]
  },
  {
   "cell_type": "code",
   "execution_count": 29,
   "metadata": {},
   "outputs": [],
   "source": [
    "game = Game(**games.pop())"
   ]
  },
  {
   "cell_type": "code",
   "execution_count": 30,
   "metadata": {},
   "outputs": [
    {
     "data": {
      "text/plain": [
       "Game(home_team='Vélez Sarsfield', away_team='River Plate', venue='José Amalfitani, Buenos Aires, Argentina', competition_name='Liga Profesional de Argentina', datetime_tz='2023-05-05T21:30:00-0300')"
      ]
     },
     "execution_count": 30,
     "metadata": {},
     "output_type": "execute_result"
    }
   ],
   "source": [
    "game"
   ]
  }
 ],
 "metadata": {
  "kernelspec": {
   "display_name": "venv",
   "language": "python",
   "name": "python3"
  },
  "language_info": {
   "codemirror_mode": {
    "name": "ipython",
    "version": 3
   },
   "file_extension": ".py",
   "mimetype": "text/x-python",
   "name": "python",
   "nbconvert_exporter": "python",
   "pygments_lexer": "ipython3",
   "version": "3.8.16"
  },
  "orig_nbformat": 4
 },
 "nbformat": 4,
 "nbformat_minor": 2
}
